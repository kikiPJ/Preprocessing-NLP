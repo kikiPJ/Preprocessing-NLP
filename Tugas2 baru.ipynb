{
 "cells": [
  {
   "cell_type": "code",
   "execution_count": 22,
   "metadata": {},
   "outputs": [],
   "source": [
    "import re, string, unicodedata\n",
    "import nltk\n",
    "import contractions\n",
    "import inflect\n",
    "from bs4 import BeautifulSoup\n",
    "from nltk import word_tokenize, sent_tokenize\n",
    "from nltk.corpus import stopwords\n",
    "from nltk.stem import LancasterStemmer, WordNetLemmatizer\n",
    "from nltk.stem.porter import PorterStemmer\n",
    "from Sastrawi.Stemmer.StemmerFactory import StemmerFactory #import Indonesian Stemmer\n",
    "import re #import regular expression\n",
    "from Sastrawi.StopWordRemover.StopWordRemoverFactory import StopWordRemoverFactory\n",
    "\n",
    "import string"
   ]
  },
  {
   "cell_type": "code",
   "execution_count": 2,
   "metadata": {},
   "outputs": [
    {
     "name": "stdout",
     "output_type": "stream",
     "text": [
      "Siang, bisa langsung ditanyakan ke Kebidanan FK UB. Terima kasih. https://t.co/5P0KDHlK9r\n",
      "Jadwal Kegiatan Dies Natalis ke-54 UB. Catat tanggalnya dan semarakkan acaranya. https://t.co/YZpBV1YFJK\n",
      "Coming soon : Rangkaian Acara Dies Natalis ke-54 Universitas Brawijaya https://t.co/5xgu0Gj828\n",
      "RT @UB_IO: Beasiswa AMINEF Untuk Pengajar Bahasa Inggris di UB. Deadline aplikasi tanggal 15 April 2017 https://t.co/Kg5Ked96bf @UB_Official\n",
      "RT @UB_IO: Beasiswa untuk Training dan Studi Lanjut ke Belgia. @UB_Official @UBTV_Brawijaya https://t.co/eEHYiNzbrf\n",
      "RT @UB_IT: Periksa Soal: cek jawaban kamu.Untuk kembali ke soal,klik nomornya.Tombol SELESAI di klik jika semua soal sudah dijawab &amp; nilaiâ€¦\n",
      "RT @UB_IT: Tes kompetensi TI selama 90 menit/90 soal (30 Excel,30 P.Point,30 Word). Soal tiap orang berbeda krn bank soal lebih dari 3000.â€¦\n",
      "RT @UnileverIDN: Prosesi penutupan Bulan Kesehatan Gigi Nasional 2016 di FKG Univ Brawijaya #BKGN #Pepsodent @UB_Official @TanyaPepsodent @â€¦\n",
      "Selamat siang. Untuk jadwal penerimaan mahasiswa S2 bisa dilihat di https://t.co/1Uuv3lGe1O atau diâ€¦ https://t.co/CYvxFREg3M\n",
      "RT @kempanrb: bersama Korpri meneguhkan netralitas dan meningkatkan profesionalisme Aparatur Sipil Negara. Selamat HUT KORPRI ke 45!! httpsâ€¦\n",
      "RT @UB_IO: Sosialisasi Studi S2 dan Beasiswa dari Swedia. hari ini, 16.00-17.00 di Lt.8 Rektorat UB, Free entry, kuota terbatas 150 kursi.â€¦\n",
      "RT @UB_IO: Kesempatan terbaru untuk studi S2 dan S3 di luar negeri dengan beasiswa. Informasi lebih lengkap https://t.co/u0RkZJTtsV @UB_Offâ€¦\n",
      "RT @UB_IO: Don't forget, British Winter Education Fair, Today 13.00 at Gedung Kebudayaan Mahasiswa UB https://t.co/dsel5k3Ii9 @UB_Official\n",
      "RT @UB_IO: Program Pertukaran Pelajar dari AMINEF untuk D1, D3 dan S1 https://t.co/rwV7N7sAX6 @UB_Official\n",
      "RT @UB_IO: Fullbright Scholarship untuk S2 dan S3 telah dibuka, silahkan mengunjungi https://t.co/FbNchPlT9W @UB_Official\n",
      "RT @UB_IO: British Winter Education Fair. Don't miss it. Scholarships info and many more @UB_Official @UBTV_Brawijaya https://t.co/iA0e6uHBâ€¦\n",
      "RT @UB_IO: International Student Summit adalah agenda tahunan DIKTI untuk kompetisi mahasiswa asing dan lokal se-Indonesia @UB_Official\n",
      "RT @UB_IO: Sosialisasi International Student Summit and Competition by UNAIR. Hari ini Kamis 13/10/16 pukul 12.00, di Lt8 Rektorat. Free. @â€¦\n",
      "RT @UB_IT: Pengumuman Jadwal Test Sertifikasi Kompetensi TI Gelombang 54\n",
      "https://t.co/vhHiWN0ENq\n",
      "RT @UB_IO: Nuffic Neso dan DAAD menawarkan beasiswa pendidikan untuk S1 hingga S3, summer course, dan pelatihan https://t.co/u0RkZJTtsV @UBâ€¦\n",
      "RT @UB_IO: Salah satu partner UB, Ritsumeikan University membuka Short-term Exchange Program https://t.co/fc4FcPASoN @UB_Official\n",
      "Rektor : selamat dan berbahagialah menjadi bagian dari 12.000 mahasiswa baru UB. Selamat belajar. #RajaBrawijaya2016 #Pusaka54\n",
      "Pelepasan balon oleh Rektor dan Dirjen dari Kemenristekdikti https://t.co/kBReodtkIk\n",
      "Dengan dibunyikannya gong, secara resmi telah dimulainya pelaksanaan PKK-Maba 2016 #RajaBrawijaya2016 #Pusaka54 https://t.co/Xe7Hfj3TqO\n",
      "Rektor Universitas Brawijaya beserta jajaran dan undangan memasuki lapangan upacara #RajaBrawijaya2016 #Pusaka54\n",
      "Ayo Dukung! https://t.co/ZuCSWMojex\n",
      "#INFO 4. Pintu gerbang dibuka pada Selasa, 30 Agustus 2016, pukul 09.00 WIB-15.30 WIB dan 17.00 WIB-selesai #RajaBrawijaya2016\n",
      "#INFO 3. Pintu Gerbang keluar yang dibuka : Pintu Gerbang Pos Veteran dan Pintu Gerbang Pos BNI'46 #RajaBrawijaya2016\n",
      "#INFO 2. Penutupan dilaksanakan pada hari : Selasa, 30 Agustus 2016, pukul 06.30-09.00 WIB dan 15.30-17.00 WIB #RajaBrawijaya2016\n",
      "#INFO 1. Penutupan jalan masuk pada : Pintu Gerbang Pos Veteran, Pos BNI'46, Pos Jl, M. Haryono (Makam) dan Pos KPRI #RajaBrawijaya2016\n",
      "#INFO Sehubungan dengan akan diselenggarakannya PKK-Maba #RajaBrawijaya2016 dengan ini diberitahukan bahwa :\n",
      "\n"
     ]
    }
   ],
   "source": [
    "file = open(\"tweet-data.txt\", \"r\")\n",
    "f = file.read()\n",
    "print(f)"
   ]
  },
  {
   "cell_type": "code",
   "execution_count": 3,
   "metadata": {},
   "outputs": [],
   "source": [
    "#link normalize\n",
    "def linkNormalize(self, text):\n",
    "        text = re.sub(r\"\\s—\\s\", \"\", text)\n",
    "        text = re.sub(r\"http\\S+\", \"\", text)\n",
    "        return text"
   ]
  },
  {
   "cell_type": "code",
   "execution_count": 4,
   "metadata": {},
   "outputs": [
    {
     "data": {
      "text/plain": [
       "\"Siang, bisa langsung ditanyakan ke Kebidanan FK UB. Terima kasih. \\nJadwal Kegiatan Dies Natalis ke-54 UB. Catat tanggalnya dan semarakkan acaranya. \\nComing soon : Rangkaian Acara Dies Natalis ke-54 Universitas Brawijaya \\nRT @UB_IO: Beasiswa AMINEF Untuk Pengajar Bahasa Inggris di UB. Deadline aplikasi tanggal 15 April 2017  @UB_Official\\nRT @UB_IO: Beasiswa untuk Training dan Studi Lanjut ke Belgia. @UB_Official @UBTV_Brawijaya \\nRT @UB_IT: Periksa Soal: cek jawaban kamu.Untuk kembali ke soal,klik nomornya.Tombol SELESAI di klik jika semua soal sudah dijawab &amp; nilaiâ€¦\\nRT @UB_IT: Tes kompetensi TI selama 90 menit/90 soal (30 Excel,30 P.Point,30 Word). Soal tiap orang berbeda krn bank soal lebih dari 3000.â€¦\\nRT @UnileverIDN: Prosesi penutupan Bulan Kesehatan Gigi Nasional 2016 di FKG Univ Brawijaya #BKGN #Pepsodent @UB_Official @TanyaPepsodent @â€¦\\nSelamat siang. Untuk jadwal penerimaan mahasiswa S2 bisa dilihat di  atau diâ€¦ \\nRT @kempanrb: bersama Korpri meneguhkan netralitas dan meningkatkan profesionalisme Aparatur Sipil Negara. Selamat HUT KORPRI ke 45!! \\nRT @UB_IO: Sosialisasi Studi S2 dan Beasiswa dari Swedia. hari ini, 16.00-17.00 di Lt.8 Rektorat UB, Free entry, kuota terbatas 150 kursi.â€¦\\nRT @UB_IO: Kesempatan terbaru untuk studi S2 dan S3 di luar negeri dengan beasiswa. Informasi lebih lengkap  @UB_Offâ€¦\\nRT @UB_IO: Don't forget, British Winter Education Fair, Today 13.00 at Gedung Kebudayaan Mahasiswa UB  @UB_Official\\nRT @UB_IO: Program Pertukaran Pelajar dari AMINEF untuk D1, D3 dan S1  @UB_Official\\nRT @UB_IO: Fullbright Scholarship untuk S2 dan S3 telah dibuka, silahkan mengunjungi  @UB_Official\\nRT @UB_IO: British Winter Education Fair. Don't miss it. Scholarships info and many more @UB_Official @UBTV_Brawijaya \\nRT @UB_IO: International Student Summit adalah agenda tahunan DIKTI untuk kompetisi mahasiswa asing dan lokal se-Indonesia @UB_Official\\nRT @UB_IO: Sosialisasi International Student Summit and Competition by UNAIR. Hari ini Kamis 13/10/16 pukul 12.00, di Lt8 Rektorat. Free. @â€¦\\nRT @UB_IT: Pengumuman Jadwal Test Sertifikasi Kompetensi TI Gelombang 54\\n\\nRT @UB_IO: Nuffic Neso dan DAAD menawarkan beasiswa pendidikan untuk S1 hingga S3, summer course, dan pelatihan  @UBâ€¦\\nRT @UB_IO: Salah satu partner UB, Ritsumeikan University membuka Short-term Exchange Program  @UB_Official\\nRektor : selamat dan berbahagialah menjadi bagian dari 12.000 mahasiswa baru UB. Selamat belajar. #RajaBrawijaya2016 #Pusaka54\\nPelepasan balon oleh Rektor dan Dirjen dari Kemenristekdikti \\nDengan dibunyikannya gong, secara resmi telah dimulainya pelaksanaan PKK-Maba 2016 #RajaBrawijaya2016 #Pusaka54 \\nRektor Universitas Brawijaya beserta jajaran dan undangan memasuki lapangan upacara #RajaBrawijaya2016 #Pusaka54\\nAyo Dukung! \\n#INFO 4. Pintu gerbang dibuka pada Selasa, 30 Agustus 2016, pukul 09.00 WIB-15.30 WIB dan 17.00 WIB-selesai #RajaBrawijaya2016\\n#INFO 3. Pintu Gerbang keluar yang dibuka : Pintu Gerbang Pos Veteran dan Pintu Gerbang Pos BNI'46 #RajaBrawijaya2016\\n#INFO 2. Penutupan dilaksanakan pada hari : Selasa, 30 Agustus 2016, pukul 06.30-09.00 WIB dan 15.30-17.00 WIB #RajaBrawijaya2016\\n#INFO 1. Penutupan jalan masuk pada : Pintu Gerbang Pos Veteran, Pos BNI'46, Pos Jl, M. Haryono (Makam) dan Pos KPRI #RajaBrawijaya2016\\n#INFO Sehubungan dengan akan diselenggarakannya PKK-Maba #RajaBrawijaya2016 dengan ini diberitahukan bahwa :\\n\""
      ]
     },
     "execution_count": 4,
     "metadata": {},
     "output_type": "execute_result"
    }
   ],
   "source": [
    "text_linkNorm = linkNormalize('text',f)\n",
    "text_linkNorm"
   ]
  },
  {
   "cell_type": "code",
   "execution_count": 5,
   "metadata": {},
   "outputs": [
    {
     "data": {
      "text/plain": [
       "'Siang  bisa langsung ditanyakan ke Kebidanan FK UB  Terima kasih   Jadwal Kegiatan Dies Natalis ke 54 UB  Catat tanggalnya dan semarakkan acaranya   Coming soon   Rangkaian Acara Dies Natalis ke 54 Universitas Brawijaya  RT  UB IO  Beasiswa AMINEF Untuk Pengajar Bahasa Inggris di UB  Deadline aplikasi tanggal 15 April 2017   UB Official RT  UB IO  Beasiswa untuk Training dan Studi Lanjut ke Belgia   UB Official  UBTV Brawijaya  RT  UB IT  Periksa Soal  cek jawaban kamu Untuk kembali ke soal klik nomornya Tombol SELESAI di klik jika semua soal sudah dijawab  amp  nilai    RT  UB IT  Tes kompetensi TI selama 90 menit 90 soal  30 Excel 30 P Point 30 Word   Soal tiap orang berbeda krn bank soal lebih dari 3000     RT  UnileverIDN  Prosesi penutupan Bulan Kesehatan Gigi Nasional 2016 di FKG Univ Brawijaya  BKGN  Pepsodent  UB Official  TanyaPepsodent      Selamat siang  Untuk jadwal penerimaan mahasiswa S2 bisa dilihat di  atau di     RT  kempanrb  bersama Korpri meneguhkan netralitas dan meningkatkan profesionalisme Aparatur Sipil Negara  Selamat HUT KORPRI ke 45    RT  UB IO  Sosialisasi Studi S2 dan Beasiswa dari Swedia  hari ini  16 00 17 00 di Lt 8 Rektorat UB  Free entry  kuota terbatas 150 kursi     RT  UB IO  Kesempatan terbaru untuk studi S2 dan S3 di luar negeri dengan beasiswa  Informasi lebih lengkap   UB Off    RT  UB IO  Don t forget  British Winter Education Fair  Today 13 00 at Gedung Kebudayaan Mahasiswa UB   UB Official RT  UB IO  Program Pertukaran Pelajar dari AMINEF untuk D1  D3 dan S1   UB Official RT  UB IO  Fullbright Scholarship untuk S2 dan S3 telah dibuka  silahkan mengunjungi   UB Official RT  UB IO  British Winter Education Fair  Don t miss it  Scholarships info and many more  UB Official  UBTV Brawijaya  RT  UB IO  International Student Summit adalah agenda tahunan DIKTI untuk kompetisi mahasiswa asing dan lokal se Indonesia  UB Official RT  UB IO  Sosialisasi International Student Summit and Competition by UNAIR  Hari ini Kamis 13 10 16 pukul 12 00  di Lt8 Rektorat  Free       RT  UB IT  Pengumuman Jadwal Test Sertifikasi Kompetensi TI Gelombang 54  RT  UB IO  Nuffic Neso dan DAAD menawarkan beasiswa pendidikan untuk S1 hingga S3  summer course  dan pelatihan   UB    RT  UB IO  Salah satu partner UB  Ritsumeikan University membuka Short term Exchange Program   UB Official Rektor   selamat dan berbahagialah menjadi bagian dari 12 000 mahasiswa baru UB  Selamat belajar   RajaBrawijaya2016  Pusaka54 Pelepasan balon oleh Rektor dan Dirjen dari Kemenristekdikti  Dengan dibunyikannya gong  secara resmi telah dimulainya pelaksanaan PKK Maba 2016  RajaBrawijaya2016  Pusaka54  Rektor Universitas Brawijaya beserta jajaran dan undangan memasuki lapangan upacara  RajaBrawijaya2016  Pusaka54 Ayo Dukung    INFO 4  Pintu gerbang dibuka pada Selasa  30 Agustus 2016  pukul 09 00 WIB 15 30 WIB dan 17 00 WIB selesai  RajaBrawijaya2016  INFO 3  Pintu Gerbang keluar yang dibuka   Pintu Gerbang Pos Veteran dan Pintu Gerbang Pos BNI 46  RajaBrawijaya2016  INFO 2  Penutupan dilaksanakan pada hari   Selasa  30 Agustus 2016  pukul 06 30 09 00 WIB dan 15 30 17 00 WIB  RajaBrawijaya2016  INFO 1  Penutupan jalan masuk pada   Pintu Gerbang Pos Veteran  Pos BNI 46  Pos Jl  M  Haryono  Makam  dan Pos KPRI  RajaBrawijaya2016  INFO Sehubungan dengan akan diselenggarakannya PKK Maba  RajaBrawijaya2016 dengan ini diberitahukan bahwa   '"
      ]
     },
     "execution_count": 5,
     "metadata": {},
     "output_type": "execute_result"
    }
   ],
   "source": [
    "#removal punctuation\n",
    "text_removePunctuation = re.sub(r'[^a-zA-Z0-9]', ' ', text_linkNorm)\n",
    "text_removePunctuation"
   ]
  },
  {
   "cell_type": "code",
   "execution_count": 45,
   "metadata": {},
   "outputs": [
    {
     "data": {
      "text/plain": [
       "'Siang  bisa langsung ditanyakan ke Kebidanan FK UB  Terima kasih   Jadwal Kegiatan Dies Natalis ke    UB  Catat tanggalnya dan semarakkan acaranya   Coming soon   Rangkaian Acara Dies Natalis ke    Universitas Brawijaya  RT  UB IO  Beasiswa AMINEF Untuk Pengajar Bahasa Inggris di UB  Deadline aplikasi tanggal    April        UB Official RT  UB IO  Beasiswa untuk Training dan Studi Lanjut ke Belgia   UB Official  UBTV Brawijaya  RT  UB IT  Periksa Soal  cek jawaban kamu Untuk kembali ke soal klik nomornya Tombol SELESAI di klik jika semua soal sudah dijawab  amp  nilai    RT  UB IT  Tes kompetensi TI selama    menit    soal     Excel    P Point    Word   Soal tiap orang berbeda krn bank soal lebih dari          RT  UnileverIDN  Prosesi penutupan Bulan Kesehatan Gigi Nasional      di FKG Univ Brawijaya  BKGN  Pepsodent  UB Official  TanyaPepsodent      Selamat siang  Untuk jadwal penerimaan mahasiswa S  bisa dilihat di  atau di     RT  kempanrb  bersama Korpri meneguhkan netralitas dan meningkatkan profesionalisme Aparatur Sipil Negara  Selamat HUT KORPRI ke       RT  UB IO  Sosialisasi Studi S  dan Beasiswa dari Swedia  hari ini              di Lt   Rektorat UB  Free entry  kuota terbatas     kursi     RT  UB IO  Kesempatan terbaru untuk studi S  dan S  di luar negeri dengan beasiswa  Informasi lebih lengkap   UB Off    RT  UB IO  Don t forget  British Winter Education Fair  Today       at Gedung Kebudayaan Mahasiswa UB   UB Official RT  UB IO  Program Pertukaran Pelajar dari AMINEF untuk D   D  dan S    UB Official RT  UB IO  Fullbright Scholarship untuk S  dan S  telah dibuka  silahkan mengunjungi   UB Official RT  UB IO  British Winter Education Fair  Don t miss it  Scholarships info and many more  UB Official  UBTV Brawijaya  RT  UB IO  International Student Summit adalah agenda tahunan DIKTI untuk kompetisi mahasiswa asing dan lokal se Indonesia  UB Official RT  UB IO  Sosialisasi International Student Summit and Competition by UNAIR  Hari ini Kamis          pukul        di Lt  Rektorat  Free       RT  UB IT  Pengumuman Jadwal Test Sertifikasi Kompetensi TI Gelombang     RT  UB IO  Nuffic Neso dan DAAD menawarkan beasiswa pendidikan untuk S  hingga S   summer course  dan pelatihan   UB    RT  UB IO  Salah satu partner UB  Ritsumeikan University membuka Short term Exchange Program   UB Official Rektor   selamat dan berbahagialah menjadi bagian dari        mahasiswa baru UB  Selamat belajar   RajaBrawijaya      Pusaka   Pelepasan balon oleh Rektor dan Dirjen dari Kemenristekdikti  Dengan dibunyikannya gong  secara resmi telah dimulainya pelaksanaan PKK Maba       RajaBrawijaya      Pusaka    Rektor Universitas Brawijaya beserta jajaran dan undangan memasuki lapangan upacara  RajaBrawijaya      Pusaka   Ayo Dukung    INFO    Pintu gerbang dibuka pada Selasa     Agustus       pukul       WIB       WIB dan       WIB selesai  RajaBrawijaya      INFO    Pintu Gerbang keluar yang dibuka   Pintu Gerbang Pos Veteran dan Pintu Gerbang Pos BNI     RajaBrawijaya      INFO    Penutupan dilaksanakan pada hari   Selasa     Agustus       pukul             WIB dan             WIB  RajaBrawijaya      INFO    Penutupan jalan masuk pada   Pintu Gerbang Pos Veteran  Pos BNI     Pos Jl  M  Haryono  Makam  dan Pos KPRI  RajaBrawijaya      INFO Sehubungan dengan akan diselenggarakannya PKK Maba  RajaBrawijaya     dengan ini diberitahukan bahwa   '"
      ]
     },
     "execution_count": 45,
     "metadata": {},
     "output_type": "execute_result"
    }
   ],
   "source": [
    "text_removeNumber = re.sub(r'[0-9]', ' ', text_removePunctuation)\n",
    "text_removeNumber"
   ]
  },
  {
   "cell_type": "code",
   "execution_count": 46,
   "metadata": {},
   "outputs": [
    {
     "name": "stdout",
     "output_type": "stream",
     "text": [
      "['Siang', 'bisa', 'langsung', 'ditanyakan', 'ke', 'Kebidanan', 'FK', 'UB', 'Terima', 'kasih', 'Jadwal', 'Kegiatan', 'Dies', 'Natalis', 'ke', 'UB', 'Catat', 'tanggalnya', 'dan', 'semarakkan', 'acaranya', 'Coming', 'soon', 'Rangkaian', 'Acara', 'Dies', 'Natalis', 'ke', 'Universitas', 'Brawijaya', 'RT', 'UB', 'IO', 'Beasiswa', 'AMINEF', 'Untuk', 'Pengajar', 'Bahasa', 'Inggris', 'di', 'UB', 'Deadline', 'aplikasi', 'tanggal', 'April', 'UB', 'Official', 'RT', 'UB', 'IO', 'Beasiswa', 'untuk', 'Training', 'dan', 'Studi', 'Lanjut', 'ke', 'Belgia', 'UB', 'Official', 'UBTV', 'Brawijaya', 'RT', 'UB', 'IT', 'Periksa', 'Soal', 'cek', 'jawaban', 'kamu', 'Untuk', 'kembali', 'ke', 'soal', 'klik', 'nomornya', 'Tombol', 'SELESAI', 'di', 'klik', 'jika', 'semua', 'soal', 'sudah', 'dijawab', 'amp', 'nilai', 'RT', 'UB', 'IT', 'Tes', 'kompetensi', 'TI', 'selama', 'menit', 'soal', 'Excel', 'P', 'Point', 'Word', 'Soal', 'tiap', 'orang', 'berbeda', 'krn', 'bank', 'soal', 'lebih', 'dari', 'RT', 'UnileverIDN', 'Prosesi', 'penutupan', 'Bulan', 'Kesehatan', 'Gigi', 'Nasional', 'di', 'FKG', 'Univ', 'Brawijaya', 'BKGN', 'Pepsodent', 'UB', 'Official', 'TanyaPepsodent', 'Selamat', 'siang', 'Untuk', 'jadwal', 'penerimaan', 'mahasiswa', 'S', 'bisa', 'dilihat', 'di', 'atau', 'di', 'RT', 'kempanrb', 'bersama', 'Korpri', 'meneguhkan', 'netralitas', 'dan', 'meningkatkan', 'profesionalisme', 'Aparatur', 'Sipil', 'Negara', 'Selamat', 'HUT', 'KORPRI', 'ke', 'RT', 'UB', 'IO', 'Sosialisasi', 'Studi', 'S', 'dan', 'Beasiswa', 'dari', 'Swedia', 'hari', 'ini', 'di', 'Lt', 'Rektorat', 'UB', 'Free', 'entry', 'kuota', 'terbatas', 'kursi', 'RT', 'UB', 'IO', 'Kesempatan', 'terbaru', 'untuk', 'studi', 'S', 'dan', 'S', 'di', 'luar', 'negeri', 'dengan', 'beasiswa', 'Informasi', 'lebih', 'lengkap', 'UB', 'Off', 'RT', 'UB', 'IO', 'Don', 't', 'forget', 'British', 'Winter', 'Education', 'Fair', 'Today', 'at', 'Gedung', 'Kebudayaan', 'Mahasiswa', 'UB', 'UB', 'Official', 'RT', 'UB', 'IO', 'Program', 'Pertukaran', 'Pelajar', 'dari', 'AMINEF', 'untuk', 'D', 'D', 'dan', 'S', 'UB', 'Official', 'RT', 'UB', 'IO', 'Fullbright', 'Scholarship', 'untuk', 'S', 'dan', 'S', 'telah', 'dibuka', 'silahkan', 'mengunjungi', 'UB', 'Official', 'RT', 'UB', 'IO', 'British', 'Winter', 'Education', 'Fair', 'Don', 't', 'miss', 'it', 'Scholarships', 'info', 'and', 'many', 'more', 'UB', 'Official', 'UBTV', 'Brawijaya', 'RT', 'UB', 'IO', 'International', 'Student', 'Summit', 'adalah', 'agenda', 'tahunan', 'DIKTI', 'untuk', 'kompetisi', 'mahasiswa', 'asing', 'dan', 'lokal', 'se', 'Indonesia', 'UB', 'Official', 'RT', 'UB', 'IO', 'Sosialisasi', 'International', 'Student', 'Summit', 'and', 'Competition', 'by', 'UNAIR', 'Hari', 'ini', 'Kamis', 'pukul', 'di', 'Lt', 'Rektorat', 'Free', 'RT', 'UB', 'IT', 'Pengumuman', 'Jadwal', 'Test', 'Sertifikasi', 'Kompetensi', 'TI', 'Gelombang', 'RT', 'UB', 'IO', 'Nuffic', 'Neso', 'dan', 'DAAD', 'menawarkan', 'beasiswa', 'pendidikan', 'untuk', 'S', 'hingga', 'S', 'summer', 'course', 'dan', 'pelatihan', 'UB', 'RT', 'UB', 'IO', 'Salah', 'satu', 'partner', 'UB', 'Ritsumeikan', 'University', 'membuka', 'Short', 'term', 'Exchange', 'Program', 'UB', 'Official', 'Rektor', 'selamat', 'dan', 'berbahagialah', 'menjadi', 'bagian', 'dari', 'mahasiswa', 'baru', 'UB', 'Selamat', 'belajar', 'RajaBrawijaya', 'Pusaka', 'Pelepasan', 'balon', 'oleh', 'Rektor', 'dan', 'Dirjen', 'dari', 'Kemenristekdikti', 'Dengan', 'dibunyikannya', 'gong', 'secara', 'resmi', 'telah', 'dimulainya', 'pelaksanaan', 'PKK', 'Maba', 'RajaBrawijaya', 'Pusaka', 'Rektor', 'Universitas', 'Brawijaya', 'beserta', 'jajaran', 'dan', 'undangan', 'memasuki', 'lapangan', 'upacara', 'RajaBrawijaya', 'Pusaka', 'Ayo', 'Dukung', 'INFO', 'Pintu', 'gerbang', 'dibuka', 'pada', 'Selasa', 'Agustus', 'pukul', 'WIB', 'WIB', 'dan', 'WIB', 'selesai', 'RajaBrawijaya', 'INFO', 'Pintu', 'Gerbang', 'keluar', 'yang', 'dibuka', 'Pintu', 'Gerbang', 'Pos', 'Veteran', 'dan', 'Pintu', 'Gerbang', 'Pos', 'BNI', 'RajaBrawijaya', 'INFO', 'Penutupan', 'dilaksanakan', 'pada', 'hari', 'Selasa', 'Agustus', 'pukul', 'WIB', 'dan', 'WIB', 'RajaBrawijaya', 'INFO', 'Penutupan', 'jalan', 'masuk', 'pada', 'Pintu', 'Gerbang', 'Pos', 'Veteran', 'Pos', 'BNI', 'Pos', 'Jl', 'M', 'Haryono', 'Makam', 'dan', 'Pos', 'KPRI', 'RajaBrawijaya', 'INFO', 'Sehubungan', 'dengan', 'akan', 'diselenggarakannya', 'PKK', 'Maba', 'RajaBrawijaya', 'dengan', 'ini', 'diberitahukan', 'bahwa']\n"
     ]
    }
   ],
   "source": [
    "words = word_tokenize(text_removeNumber)\n",
    "print(words)"
   ]
  },
  {
   "cell_type": "code",
   "execution_count": 55,
   "metadata": {},
   "outputs": [
    {
     "data": {
      "text/plain": [
       "'Siang  bisa langsung ditanyakan  Kebidanan    Terima kasih   Jadwal Kegiatan Dies Natalis       Catat tanggalnya  semarakkan acaranya   Coming soon   Rangkaian Acara Dies Natalis     Universitas Brawijaya       Beasiswa AMINEF Untuk Pengajar Bahasa Inggris    Deadline aplikasi tanggal    April         Official      Beasiswa untuk Training  Studi Lanjut  Belgia    Official  UBTV Brawijaya       Periksa Soal   jawaban kamu Untuk kembali  soal klik nomornya Tombol SELESAI  klik jika semua soal sudah dijawab    nilai          kompetensi  selama    menit    soal     Excel     Point    Word   Soal tiap orang berbeda  bank soal lebih dari            UnileverIDN  Prosesi penutupan Bulan Kesehatan Gigi Nasional        Univ Brawijaya  BKGN  Pepsodent   Official  TanyaPepsodent      Selamat siang  Untuk jadwal penerimaan mahasiswa   bisa dilihat   atau        kempanrb  bersama Korpri meneguhkan netralitas  meningkatkan profesionalisme Aparatur Sipil Negara  Selamat  KORPRI             Sosialisasi Studi    Beasiswa dari Swedia  hari                   Rektorat   Free entry  kuota terbatas     kursi          Kesempatan terbaru untuk studi       luar negeri dengan beasiswa  Informasi lebih lengkap               forget  British Winter Education Fair  Today        Gedung Kebudayaan Mahasiswa     Official      Program Pertukaran Pelajar dari AMINEF untuk            Official      Fullbright Scholarship untuk      telah dibuka  silahkan mengunjungi    Official      British Winter Education Fair    miss   Scholarships info  many more   Official  UBTV Brawijaya       International Student Summit adalah agenda tahunan DIKTI untuk kompetisi mahasiswa asing  lokal  Indonesia   Official      Sosialisasi International Student Summit  Competition  UNAIR  Hari  Kamis          pukul           Rektorat  Free            Pengumuman Jadwal Test Sertifikasi Kompetensi  Gelombang          Nuffic Neso  DAAD menawarkan beasiswa pendidikan untuk   hingga    summer course   pelatihan            Salah satu partner   Ritsumeikan University membuka Short term Exchange Program    Official Rektor   selamat  berbahagialah menjadi bagian dari        mahasiswa baru   Selamat belajar   RajaBrawijaya      Pusaka   Pelepasan balon oleh Rektor  Dirjen dari Kemenristekdikti  Dengan dibunyikannya gong  secara resmi telah dimulainya pelaksanaan  Maba       RajaBrawijaya      Pusaka    Rektor Universitas Brawijaya beserta jajaran  undangan memasuki lapangan upacara  RajaBrawijaya      Pusaka    Dukung    INFO    Pintu gerbang dibuka pada Selasa     Agustus       pukul                       selesai  RajaBrawijaya      INFO    Pintu Gerbang keluar yang dibuka   Pintu Gerbang  Veteran  Pintu Gerbang       RajaBrawijaya      INFO    Penutupan dilaksanakan pada hari   Selasa     Agustus       pukul                             RajaBrawijaya      INFO    Penutupan jalan masuk pada   Pintu Gerbang  Veteran             Haryono  Makam    KPRI  RajaBrawijaya      INFO Sehubungan dengan akan diselenggarakannya  Maba  RajaBrawijaya     dengan  diberitahukan bahwa   '"
      ]
     },
     "execution_count": 55,
     "metadata": {},
     "output_type": "execute_result"
    }
   ],
   "source": [
    "#remove characters less than 4\n",
    "text_new = re.sub(r'\\b\\w{1,3}\\b', '', text_removeNumber)\n",
    "text_new"
   ]
  },
  {
   "cell_type": "code",
   "execution_count": 58,
   "metadata": {},
   "outputs": [],
   "source": [
    "character = [' ']"
   ]
  },
  {
   "cell_type": "code",
   "execution_count": 59,
   "metadata": {},
   "outputs": [],
   "source": [
    "def repeatcharNormalize(self, text):\n",
    "        for i in range(len(character)):\n",
    "            charac_long = 5\n",
    "            while charac_long>=2:\n",
    "                char = character[i]*charac_long \n",
    "                text = text.replace(char,character[i])\n",
    "                charac_long -= 1\n",
    "        return text"
   ]
  },
  {
   "cell_type": "code",
   "execution_count": 60,
   "metadata": {},
   "outputs": [
    {
     "data": {
      "text/plain": [
       "'Siang bisa langsung ditanyakan Kebidanan Terima kasih Jadwal Kegiatan Dies Natalis Catat tanggalnya semarakkan acaranya Coming soon Rangkaian Acara Dies Natalis Universitas Brawijaya Beasiswa AMINEF Untuk Pengajar Bahasa Inggris Deadline aplikasi tanggal April Official Beasiswa untuk Training Studi Lanjut Belgia Official UBTV Brawijaya Periksa Soal jawaban kamu Untuk kembali soal klik nomornya Tombol SELESAI klik jika semua soal sudah dijawab nilai kompetensi selama menit soal Excel Point Word Soal tiap orang berbeda bank soal lebih dari UnileverIDN Prosesi penutupan Bulan Kesehatan Gigi Nasional Univ Brawijaya BKGN Pepsodent Official TanyaPepsodent Selamat siang Untuk jadwal penerimaan mahasiswa bisa dilihat atau kempanrb bersama Korpri meneguhkan netralitas meningkatkan profesionalisme Aparatur Sipil Negara Selamat KORPRI Sosialisasi Studi Beasiswa dari Swedia hari Rektorat Free entry kuota terbatas kursi Kesempatan terbaru untuk studi luar negeri dengan beasiswa Informasi lebih lengkap forget British Winter Education Fair Today Gedung Kebudayaan Mahasiswa Official Program Pertukaran Pelajar dari AMINEF untuk Official Fullbright Scholarship untuk telah dibuka silahkan mengunjungi Official British Winter Education Fair miss Scholarships info many more Official UBTV Brawijaya International Student Summit adalah agenda tahunan DIKTI untuk kompetisi mahasiswa asing lokal Indonesia Official Sosialisasi International Student Summit Competition UNAIR Hari Kamis pukul Rektorat Free Pengumuman Jadwal Test Sertifikasi Kompetensi Gelombang Nuffic Neso DAAD menawarkan beasiswa pendidikan untuk hingga summer course pelatihan Salah satu partner Ritsumeikan University membuka Short term Exchange Program Official Rektor selamat berbahagialah menjadi bagian dari mahasiswa baru Selamat belajar RajaBrawijaya Pusaka Pelepasan balon oleh Rektor Dirjen dari Kemenristekdikti Dengan dibunyikannya gong secara resmi telah dimulainya pelaksanaan Maba RajaBrawijaya Pusaka Rektor Universitas Brawijaya beserta jajaran undangan memasuki lapangan upacara RajaBrawijaya Pusaka Dukung INFO Pintu gerbang dibuka pada Selasa Agustus pukul selesai RajaBrawijaya INFO Pintu Gerbang keluar yang dibuka Pintu Gerbang Veteran Pintu Gerbang RajaBrawijaya INFO Penutupan dilaksanakan pada hari Selasa Agustus pukul RajaBrawijaya INFO Penutupan jalan masuk pada Pintu Gerbang Veteran Haryono Makam KPRI RajaBrawijaya INFO Sehubungan dengan akan diselenggarakannya Maba RajaBrawijaya dengan diberitahukan bahwa '"
      ]
     },
     "execution_count": 60,
     "metadata": {},
     "output_type": "execute_result"
    }
   ],
   "source": [
    "text_repeat = repeatcharNormalize('text',text_new)\n",
    "text_repeat"
   ]
  },
  {
   "cell_type": "code",
   "execution_count": 62,
   "metadata": {},
   "outputs": [
    {
     "name": "stdout",
     "output_type": "stream",
     "text": [
      "['yang', 'untuk', 'pada', 'ke', 'para', 'namun', 'menurut', 'antara', 'dia', 'dua', 'ia', 'seperti', 'jika', 'jika', 'sehingga', 'kembali', 'dan', 'tidak', 'ini', 'karena', 'kepada', 'oleh', 'saat', 'harus', 'sementara', 'setelah', 'belum', 'kami', 'sekitar', 'bagi', 'serta', 'di', 'dari', 'telah', 'sebagai', 'masih', 'hal', 'ketika', 'adalah', 'itu', 'dalam', 'bisa', 'bahwa', 'atau', 'hanya', 'kita', 'dengan', 'akan', 'juga', 'ada', 'mereka', 'sudah', 'saya', 'terhadap', 'secara', 'agar', 'lain', 'anda', 'begitu', 'mengapa', 'kenapa', 'yaitu', 'yakni', 'daripada', 'itulah', 'lagi', 'maka', 'tentang', 'demi', 'dimana', 'kemana', 'pula', 'sambil', 'sebelum', 'sesudah', 'supaya', 'guna', 'kah', 'pun', 'sampai', 'sedangkan', 'selagi', 'sementara', 'tetapi', 'apakah', 'kecuali', 'sebab', 'selain', 'seolah', 'seraya', 'seterusnya', 'tanpa', 'agak', 'boleh', 'dapat', 'dsb', 'dst', 'dll', 'dahulu', 'dulunya', 'anu', 'demikian', 'tapi', 'ingin', 'juga', 'nggak', 'mari', 'nanti', 'melainkan', 'oh', 'ok', 'seharusnya', 'sebetulnya', 'setiap', 'setidaknya', 'sesuatu', 'pasti', 'saja', 'toh', 'ya', 'walau', 'tolong', 'tentu', 'amat', 'apalagi', 'bagaimanapun']\n"
     ]
    }
   ],
   "source": [
    "factory = StopWordRemoverFactory()\n",
    "more_stopword = ['ini', 'saat','itu','adalah','sih', 'ucap']\n",
    "\n",
    "data = factory.get_stop_words()+more_stopword\n",
    "stopword = factory.create_stop_word_remover()\n",
    " \n",
    "text_stopword = stopword.remove(f)\n",
    "factory = StopWordRemoverFactory()\n",
    "stopwords = factory.get_stop_words()\n",
    "print(stopwords)"
   ]
  },
  {
   "cell_type": "code",
   "execution_count": null,
   "metadata": {},
   "outputs": [],
   "source": []
  },
  {
   "cell_type": "code",
   "execution_count": null,
   "metadata": {},
   "outputs": [],
   "source": []
  },
  {
   "cell_type": "code",
   "execution_count": null,
   "metadata": {},
   "outputs": [],
   "source": []
  },
  {
   "cell_type": "code",
   "execution_count": null,
   "metadata": {},
   "outputs": [],
   "source": []
  }
 ],
 "metadata": {
  "kernelspec": {
   "display_name": "Python 3",
   "language": "python",
   "name": "python3"
  },
  "language_info": {
   "codemirror_mode": {
    "name": "ipython",
    "version": 3
   },
   "file_extension": ".py",
   "mimetype": "text/x-python",
   "name": "python",
   "nbconvert_exporter": "python",
   "pygments_lexer": "ipython3",
   "version": "3.6.5"
  }
 },
 "nbformat": 4,
 "nbformat_minor": 2
}
